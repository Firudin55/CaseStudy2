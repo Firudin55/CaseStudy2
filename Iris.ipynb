{
 "cells": [
  {
   "cell_type": "code",
   "execution_count": 1,
   "metadata": {},
   "outputs": [],
   "source": [
    "# Streamlit"
   ]
  },
  {
   "cell_type": "code",
   "execution_count": 1,
   "metadata": {},
   "outputs": [
    {
     "name": "stderr",
     "output_type": "stream",
     "text": [
      "2023-12-07 23:05:44.238 \n",
      "  \u001b[33m\u001b[1mWarning:\u001b[0m to view this Streamlit app on a browser, run it with the following\n",
      "  command:\n",
      "\n",
      "    streamlit run c:\\Users\\firudin.aliyev\\AppData\\Local\\anaconda3\\Lib\\site-packages\\ipykernel_launcher.py [ARGUMENTS]\n",
      "c:\\Users\\firudin.aliyev\\AppData\\Local\\anaconda3\\Lib\\site-packages\\sklearn\\base.py:457: UserWarning: X has feature names, but DecisionTreeClassifier was fitted without feature names\n",
      "  warnings.warn(\n",
      "c:\\Users\\firudin.aliyev\\AppData\\Local\\anaconda3\\Lib\\site-packages\\sklearn\\base.py:457: UserWarning: X has feature names, but DecisionTreeClassifier was fitted without feature names\n",
      "  warnings.warn(\n"
     ]
    }
   ],
   "source": [
    "# THREE PARTS\n",
    "\n",
    "# first part\n",
    "import streamlit as st\n",
    "import pandas as pd\n",
    "from PIL import Image\n",
    "\n",
    "# User input via Streamlit sidebar\n",
    "st.sidebar.write(\"# User input parameters\")\n",
    "\n",
    "sepal_length = st.sidebar.slider('Sepal length', 4.0, 10.0, 5.4)\n",
    "sepal_width = st.sidebar.slider('Sepal width', 2.0, 6.0, 3.4)\n",
    "petal_length = st.sidebar.slider('Petal length', 1.0, 8.0, 1.3)\n",
    "petal_width = st.sidebar.number_input('Petal width', 0.1, 3.0, 0.2)\n",
    "\n",
    "\n",
    "# Prepare data for prediction\n",
    "data = {'sepal_length': sepal_length,\n",
    "        'sepal_width': sepal_width,\n",
    "        'petal_length': petal_length,\n",
    "        'petal_width': petal_width}\n",
    "\n",
    "df = pd.DataFrame(data, index = [0])\n",
    "\n",
    "# Display user input parameters\n",
    "st.write(\"## User Input parameters\")\n",
    "st.write(\"These are the parameters you have chosen. Make sure there are no errors\")\n",
    "st.write(df.T.rename(columns={0: \"Length in cm\"}))\n",
    "\n",
    "\n",
    "### second part\n",
    "\n",
    "from sklearn import datasets\n",
    "from sklearn.tree import DecisionTreeClassifier\n",
    "import numpy as np\n",
    "\n",
    "# Load and prepare the Iris dataset\n",
    "\n",
    "iris = datasets.load_iris()\n",
    "X = iris.data\n",
    "y = iris.target\n",
    "target_names = iris.target_names\n",
    "#\n",
    "# st.write(target_names)\n",
    "\n",
    "# Model creation and training\n",
    "clf = DecisionTreeClassifier()\n",
    "clf.fit(X, y)\n",
    "\n",
    "# Make predictions based on user input\n",
    "prediction = clf.predict(df)\n",
    "probability = np.max(clf.predict_proba(df)) * 100\n",
    "\n",
    "#st.write(clf.predict_proba(df))\n",
    "\n",
    "# Display prediction results\n",
    "st.write(\"## Prediction part\")\n",
    "st.write(\"### Here is your prediction based on your inputs\")\n",
    "st.write(f\"\"\"The flower you are trying \n",
    "             to predict appears to be \n",
    "             **{target_names[prediction][0]}**\n",
    "             with a probability of {probability}. %\n",
    "          \"\"\")\n",
    "\n",
    "\n",
    "\n",
    "# Map the predicted class to the corresponding image file\n",
    "image_files = {\n",
    "    'setosa': 'irisSetosa.jfif',\n",
    "    'versicolor': 'irisVersicolor.jfif',\n",
    "    'virginica': 'irisVirginica.jfif'\n",
    "}\n",
    "\n",
    "# Display the corresponding image\n",
    "image_file = image_files.get(target_names[prediction][0].lower())\n",
    "\n",
    "if image_file:\n",
    "    image = Image.open(image_file)\n",
    "    st.image(image, f\"The sample image of Iris {target_names[prediction][0]} type\", width= 200)\n",
    "else:\n",
    "    st.write(\"No image available for this class.\")\n",
    "\n"
   ]
  },
  {
   "cell_type": "code",
   "execution_count": null,
   "metadata": {},
   "outputs": [],
   "source": []
  }
 ],
 "metadata": {
  "kernelspec": {
   "display_name": "Python 3",
   "language": "python",
   "name": "python3"
  },
  "language_info": {
   "codemirror_mode": {
    "name": "ipython",
    "version": 3
   },
   "file_extension": ".py",
   "mimetype": "text/x-python",
   "name": "python",
   "nbconvert_exporter": "python",
   "pygments_lexer": "ipython3",
   "version": "3.11.5"
  }
 },
 "nbformat": 4,
 "nbformat_minor": 2
}
